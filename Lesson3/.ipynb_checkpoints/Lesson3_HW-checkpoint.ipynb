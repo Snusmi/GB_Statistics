{
 "cells": [
  {
   "cell_type": "markdown",
   "metadata": {},
   "source": [
    "# Урок 3. Описательная статистика. Качественные и количественные характеристики популяции. Графическое представление данных"
   ]
  },
  {
   "cell_type": "markdown",
   "metadata": {},
   "source": [
    "### Задача 1\n",
    "\n",
    "Даны значения зарплат из выборки выпускников:\n",
    "\n",
    "100, 80, 75, 77, 89, 33, 45, 25, 65, 17, 30, 230, 24, 57, 55, 70, 75, 65, 84, 90, 150\n",
    "\n",
    "Используя только встроенные питоновские функции и структуры данных (т.е. без библиотек numpy, pandas и др.) посчитать среднее арифметическое, смещённую и несмещённую оценки дисперсии, среднее квадратичное отклонение для данной выборки.\n",
    "\n",
    "Можно затем посчитать те же значения с использованием библиотек, чтобы проверить себя."
   ]
  },
  {
   "cell_type": "code",
   "execution_count": 38,
   "metadata": {},
   "outputs": [
    {
     "name": "stdout",
     "output_type": "stream",
     "text": [
      "среднее - 73.14285714285714\n",
      "отклонение - 46.20686994302874\n",
      "дисперсия - 2135.074829931973\n",
      "несмещенная дисперсия - 2241.8285714285716\n"
     ]
    }
   ],
   "source": [
    "import math\n",
    "default_list = [100, 80, 75, 77, 89, 33, 45, 25, 65, 17, 30, 230, 24, 57, 55, 70, 75, 65, 84, 90, 150]\n",
    "\n",
    "sum_set = 0\n",
    "for element in default_list:\n",
    "    sum_set = sum_set + element\n",
    "\n",
    "mean_set = sum_set / len(default_list)\n",
    "\n",
    "sum_set = 0\n",
    "for element in default_list:\n",
    "    sum_set = sum_set + (element - mean_set)**2\n",
    "    \n",
    "std_set = math.sqrt(sum_set / len(default_list))\n",
    "var_set = sum_set / len(default_list)\n",
    "var2_set = sum_set / (len(default_list) - 1)\n",
    "\n",
    "print(f\"среднее - {mean_set}\\nотклонение - {std_set}\\nдисперсия - {var_set}\\nнесмещенная дисперсия - {var2_set}\")"
   ]
  },
  {
   "cell_type": "code",
   "execution_count": 32,
   "metadata": {},
   "outputs": [
    {
     "name": "stdout",
     "output_type": "stream",
     "text": [
      "среднее - 73.14285714285714\n",
      "отклонение - 46.20686994302874\n",
      "дисперсия - 2135.074829931973\n",
      "несмещенная дисперсия - 2241.8285714285716\n"
     ]
    }
   ],
   "source": [
    "import numpy as np\n",
    "import pandas as pd\n",
    "df = pd.DataFrame(default_list, columns=['Data'])\n",
    "print(f'среднее - {df.Data.mean()}')\n",
    "print(f'отклонение - {df.Data.std(ddof=0)}')\n",
    "print(f'дисперсия - {df.Data.var(ddof=0)}')\n",
    "print(f'несмещенная дисперсия - {df.Data.var(ddof=1)}')"
   ]
  },
  {
   "cell_type": "markdown",
   "metadata": {},
   "source": [
    "### Задача 2\n",
    "\n",
    "Для выборки из задачи 1 найти (также без использования библиотек):\n",
    "1. медиану, первый и третий квартили, интерквартильное расстояние,\n",
    "2. выборсы в выборке (используя для этого метод как при построении \"усов\" из boxplot).\n",
    "\n",
    "Возможные неоднозначности в вычислении квантилей можно разрешать любым способом."
   ]
  },
  {
   "cell_type": "code",
   "execution_count": 40,
   "metadata": {},
   "outputs": [
    {
     "name": "stdout",
     "output_type": "stream",
     "text": [
      "[17, 24, 25, 30, 33, 45, 55, 57, 65, 65, 70, 75, 75, 77, 80, 84, 89, 90, 100, 150, 230]\n"
     ]
    }
   ],
   "source": [
    "import copy\n",
    "def selection_sort(nums):  \n",
    "    # Значение i соответствует кол-ву отсортированных значений\n",
    "    for i in range(len(nums)):\n",
    "        # Исходно считаем наименьшим первый элемент\n",
    "        lowest_value_index = i\n",
    "        # Этот цикл перебирает несортированные элементы\n",
    "        for j in range(i + 1, len(nums)):\n",
    "            if nums[j] < nums[lowest_value_index]:\n",
    "                lowest_value_index = j\n",
    "        # Самый маленький элемент меняем с первым в списке\n",
    "        nums[i], nums[lowest_value_index] = nums[lowest_value_index], nums[i]\n",
    "\n",
    "sorted_list = copy.deepcopy(default_list)\n",
    "selection_sort(sorted_list)\n",
    "print(sorted_list)"
   ]
  },
  {
   "cell_type": "code",
   "execution_count": 42,
   "metadata": {},
   "outputs": [
    {
     "data": {
      "text/plain": [
       "21"
      ]
     },
     "execution_count": 42,
     "metadata": {},
     "output_type": "execute_result"
    }
   ],
   "source": [
    "n = len(sorted_list)\n",
    "n"
   ]
  },
  {
   "cell_type": "code",
   "execution_count": 44,
   "metadata": {},
   "outputs": [
    {
     "name": "stdout",
     "output_type": "stream",
     "text": [
      "медиана - 70\n",
      "1й квартиль - 45\n",
      "3й квартиль - 89\n"
     ]
    }
   ],
   "source": [
    "print(f\"медиана - {sorted_list[round(n/2)]}\")\n",
    "print(f\"1й квартиль - {sorted_list[round(n/4)]}\")\n",
    "print(f\"3й квартиль - {sorted_list[round(n/4*3)]}\")"
   ]
  },
  {
   "cell_type": "code",
   "execution_count": 46,
   "metadata": {},
   "outputs": [
    {
     "name": "stdout",
     "output_type": "stream",
     "text": [
      "медиана - 70.0\n",
      "1й квартиль - 45.0\n",
      "3й квартиль - 84.0\n"
     ]
    }
   ],
   "source": [
    "print(f\"медиана - {df.Data.quantile(0.5)}\")\n",
    "print(f\"1й квартиль - {df.Data.quantile(0.25)}\")\n",
    "print(f\"3й квартиль - {df.Data.quantile(0.75)}\")"
   ]
  },
  {
   "cell_type": "markdown",
   "metadata": {},
   "source": [
    "### Задача 3\n",
    "\n",
    "В университет на факультеты A и B поступило равное количество студентов, а на факультет C студентов поступило столько же, сколько на A и B вместе. Вероятность того, что студент факультета A сдаст первую сессию, равна 0.8. Для студента факультета B эта вероятность равна 0.7, а для студента факультета C - 0.9. Студент сдал первую сессию. Какова вероятность, что он учится: a) на факультете A? б) на факультете B? в) на факультете C?"
   ]
  },
  {
   "cell_type": "markdown",
   "metadata": {},
   "source": [
    "**Решение**"
   ]
  },
  {
   "cell_type": "markdown",
   "metadata": {},
   "source": [
    "Вероятность, что студент из факультета А - 0.25, из факультета В - 0.25, из факультета С - 0.5\n",
    "Событие S - студент сдал первую сессию\n",
    "Событие A - студент учится на факультете А\n",
    "Событие B - студент учится на факультете В\n",
    "События С - студент учится на факультете С\n",
    "\n",
    "По формуле Байеса  \n",
    "Р(А | S) = P(S|A) * Р(А) / Р(S),  \n",
    "Р(B | S) = P(S|B) * Р(B) / Р(S),  \n",
    "Р(C | S) = P(S|C) * Р(C) / Р(S),  \n",
    "где P(S) = P(S|A) * Р(А) + P(S|B) * Р(B) + P(S|C) * Р(C)"
   ]
  },
  {
   "cell_type": "code",
   "execution_count": 48,
   "metadata": {},
   "outputs": [
    {
     "name": "stdout",
     "output_type": "stream",
     "text": [
      "Вероятность, что студент учится на факультете А: 0.21\n",
      "Вероятность, что студент учится на факультете В: 0.24\n",
      "Вероятность, что студент учится на факультете С: 0.55\n"
     ]
    }
   ],
   "source": [
    "PS = 0.25*0.7+0.25*0.8+0.5*0.9\n",
    "P1 = 0.25*0.7/PS\n",
    "P2 = 0.25*0.8/PS\n",
    "P3 = 0.5*0.9/PS\n",
    "\n",
    "print(f\"Вероятность, что студент учится на факультете А: {round(P1,2)}\")\n",
    "print(f\"Вероятность, что студент учится на факультете В: {round(P2,2)}\")\n",
    "print(f\"Вероятность, что студент учится на факультете С: {round(P3,2)}\")"
   ]
  },
  {
   "cell_type": "code",
   "execution_count": null,
   "metadata": {},
   "outputs": [],
   "source": []
  }
 ],
 "metadata": {
  "kernelspec": {
   "display_name": "Python 3",
   "language": "python",
   "name": "python3"
  },
  "language_info": {
   "codemirror_mode": {
    "name": "ipython",
    "version": 3
   },
   "file_extension": ".py",
   "mimetype": "text/x-python",
   "name": "python",
   "nbconvert_exporter": "python",
   "pygments_lexer": "ipython3",
   "version": "3.7.7"
  }
 },
 "nbformat": 4,
 "nbformat_minor": 4
}
