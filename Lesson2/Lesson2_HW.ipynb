{
 "cells": [
  {
   "cell_type": "markdown",
   "metadata": {},
   "source": [
    "# Урок 2. Дискретные случайные величины. Закон распределения вероятностей. Биномиальный закон распределения. Распределение Пуассона"
   ]
  },
  {
   "cell_type": "code",
   "execution_count": 1,
   "metadata": {},
   "outputs": [],
   "source": [
    "import numpy as np\n",
    "from math import factorial\n",
    "\n",
    "def combinations(n, k):\n",
    "    return int(factorial(n) / (factorial(k) * factorial(n - k)))\n",
    "\n",
    "def arrangements(n, k):\n",
    "    return int(factorial(n) / factorial(n - k))\n",
    "\n",
    "def permutations(n):\n",
    "    return int(factorial(n))"
   ]
  },
  {
   "cell_type": "markdown",
   "metadata": {},
   "source": [
    "### 1. Вероятность того, что стрелок попадет в мишень, выстрелив один раз, равна 0.8. Стрелок выстрелил 100 раз. Найдите вероятность того, что стрелок попадет в цель ровно 85 раз."
   ]
  },
  {
   "cell_type": "markdown",
   "metadata": {},
   "source": [
    "Посчитать вероятность можно по формуле Бернулли"
   ]
  },
  {
   "cell_type": "code",
   "execution_count": 3,
   "metadata": {},
   "outputs": [
    {
     "name": "stdout",
     "output_type": "stream",
     "text": [
      "P = 0.048061793700746355\n"
     ]
    }
   ],
   "source": [
    "p = 0.8\n",
    "q = 1-p\n",
    "n = 100\n",
    "k = 85\n",
    "\n",
    "P = combinations(n, k) * p**k * q**(n-k)\n",
    "print(f'P = {P}')"
   ]
  },
  {
   "cell_type": "markdown",
   "metadata": {},
   "source": [
    "### 2. Вероятность того, что лампочка перегорит в течение первого дня эксплуатации, равна 0.0004. В жилом комплексе после ремонта в один день включили 5000 новых лампочек. Какова вероятность, что ни одна из них не перегорит в первый день? Какова вероятность, что перегорят ровно две?"
   ]
  },
  {
   "cell_type": "markdown",
   "metadata": {},
   "source": [
    "Перегорание лампочек - независимое событие. Вероятность того, что лампочка не перегорит: $$1 - 0.0004$$ Соответственно, вероятность, что ни одна не перегорит: $$({1 - 0.0004})^{5000}$$"
   ]
  },
  {
   "cell_type": "code",
   "execution_count": 15,
   "metadata": {},
   "outputs": [
    {
     "name": "stdout",
     "output_type": "stream",
     "text": [
      "P = 0.13528114551440706\n"
     ]
    }
   ],
   "source": [
    "P = (1 - 0.0004)**5000\n",
    "print(f'P = {P}')"
   ]
  },
  {
   "cell_type": "markdown",
   "metadata": {},
   "source": [
    "По формуле Бернулли. Считаем, что перегорит 0 лампочек:"
   ]
  },
  {
   "cell_type": "code",
   "execution_count": 16,
   "metadata": {},
   "outputs": [
    {
     "name": "stdout",
     "output_type": "stream",
     "text": [
      "P = 0.13528114551440706\n"
     ]
    }
   ],
   "source": [
    "p = 0.0004\n",
    "q = 1-p\n",
    "n = 5000\n",
    "k = 0\n",
    "\n",
    "P = combinations(n, k) * p**k * q**(n-k)\n",
    "print(f'P = {P}')"
   ]
  },
  {
   "cell_type": "markdown",
   "metadata": {},
   "source": [
    "Вероятность перегорания двух лампочек так же по формуле Бернулли:"
   ]
  },
  {
   "cell_type": "code",
   "execution_count": 17,
   "metadata": {},
   "outputs": [
    {
     "name": "stdout",
     "output_type": "stream",
     "text": [
      "P = 0.7292752849733247\n"
     ]
    }
   ],
   "source": [
    "p = 0.0004\n",
    "q = 1-p\n",
    "n = 5000\n",
    "k = 2\n",
    "\n",
    "P = 1 - combinations(n, k) * p**k * q**(n-k)\n",
    "print(f'P = {P}')"
   ]
  },
  {
   "cell_type": "markdown",
   "metadata": {},
   "source": [
    "### 3. Монету подбросили 144 раза. Какова вероятность, что орел выпадет ровно 70 раз?"
   ]
  },
  {
   "cell_type": "markdown",
   "metadata": {},
   "source": [
    "Вероятность выпадения/не выпадения орла = 0.5. По формуле Бернулли:"
   ]
  },
  {
   "cell_type": "code",
   "execution_count": 22,
   "metadata": {},
   "outputs": [
    {
     "name": "stdout",
     "output_type": "stream",
     "text": [
      "P = 0.06281178035144776\n"
     ]
    }
   ],
   "source": [
    "p = 0.5\n",
    "q = 0.5\n",
    "n = 144\n",
    "k = 70\n",
    "\n",
    "P = combinations(n, k) * p**k * q**(n-k)\n",
    "print(f'P = {P}')"
   ]
  },
  {
   "cell_type": "markdown",
   "metadata": {},
   "source": [
    "### 4. В первом ящике находится 10 мячей, из которых 7 - белые. Во втором ящике - 11 мячей, из которых 9 белых. Из каждого ящика вытаскивают случайным образом по два мяча. Какова вероятность того, что все мячи белые? Какова вероятность того, что ровно два мяча белые? Какова вероятность того, что хотя бы один мяч белый?"
   ]
  },
  {
   "cell_type": "code",
   "execution_count": 28,
   "metadata": {},
   "outputs": [
    {
     "name": "stdout",
     "output_type": "stream",
     "text": [
      "P = 0.3054545454545455\n"
     ]
    }
   ],
   "source": [
    "## а) все мячи белые - из 1го и из 2го ящика достали по 2 белых мяча\n",
    "P1 = combinations(7, 2) / combinations(10, 2)\n",
    "P2 = combinations(9, 2) / combinations(11, 2)\n",
    "P = P1 * P2\n",
    "print(f'P = {P}')"
   ]
  },
  {
   "cell_type": "code",
   "execution_count": 29,
   "metadata": {},
   "outputs": [
    {
     "name": "stdout",
     "output_type": "stream",
     "text": [
      "P = 0.20484848484848486\n"
     ]
    }
   ],
   "source": [
    "## б) ровно два мяча белые\n",
    "## или из 1го ящика достали 2 белых, а из 2го нет, \n",
    "## или из 1го достали 1 белый и 1 белый из другого ящика\n",
    "## или из 2го ящика достали 2 белых, а из 1го нет\n",
    "\n",
    "P1 = (combinations(7, 2) / combinations(10, 2)) * (combinations((11-9), 2) / combinations(11, 2))\n",
    "P2 = (combinations(7, 1)*combinations((10-7), 1) / combinations(10, 2)) * (combinations(9, 1)* combinations((11-9), 1) / combinations(11, 2))\n",
    "P3 = (combinations((10-7), 2) / combinations(10, 2)) * (combinations(9, 2) / combinations(11, 2))\n",
    "\n",
    "P = P1 + P2 + P3\n",
    "print(f'P = {P}')"
   ]
  },
  {
   "cell_type": "code",
   "execution_count": 32,
   "metadata": {},
   "outputs": [
    {
     "name": "stdout",
     "output_type": "stream",
     "text": [
      "P = 0.9824242424242424\n"
     ]
    }
   ],
   "source": [
    "## c) хотя бы один мяч белый = 1 - все 3 мяча не белых\n",
    "## все три мяча не белых = или 2 небелых в 1м ящике + 1 небелый из второго, или 1 небелый в 1м ящике + 2 небелых из второго\n",
    "P1 = 3/10 * 2/9 * 2/11 + 3/10 * 2/11 * 1/10\n",
    "P = 1- P1\n",
    "print(f'P = {P}')"
   ]
  }
 ],
 "metadata": {
  "kernelspec": {
   "display_name": "Python 3",
   "language": "python",
   "name": "python3"
  },
  "language_info": {
   "codemirror_mode": {
    "name": "ipython",
    "version": 3
   },
   "file_extension": ".py",
   "mimetype": "text/x-python",
   "name": "python",
   "nbconvert_exporter": "python",
   "pygments_lexer": "ipython3",
   "version": "3.7.7"
  }
 },
 "nbformat": 4,
 "nbformat_minor": 4
}
